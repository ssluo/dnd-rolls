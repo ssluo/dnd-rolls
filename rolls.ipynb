{
 "cells": [
  {
   "cell_type": "code",
   "execution_count": 5,
   "metadata": {},
   "outputs": [
    {
     "name": "stdout",
     "output_type": "stream",
     "text": [
      "      j  s  r  b  total  pct\n",
      "roll                        \n",
      "1     4  4  1  2     11  5.3\n",
      "2     3  5  2  1     11  5.3\n",
      "3     1  2  5  5     13  6.3\n",
      "4     1  5  1  7     14  6.8\n",
      "5     2  3  1  5     11  5.3\n",
      "6     1  2  1  0      4  1.9\n",
      "7     4  4  0  2     10  4.8\n",
      "8     3  2  2  3     10  4.8\n",
      "9     2  2  3  3     10  4.8\n",
      "10    2  1  2  2      7  3.4\n",
      "11    3  1  3  2      9  4.3\n",
      "12    1  4  3  3     11  5.3\n",
      "13    2  2  1  2      7  3.4\n",
      "14    2  1  1  6     10  4.8\n",
      "15    6  4  0  4     14  6.8\n",
      "16    2  3  3  1      9  4.3\n",
      "17    3  4  3  3     13  6.3\n",
      "18    2  4  5  1     12  5.8\n",
      "19    3  1  2  2      8  3.9\n",
      "20    3  5  2  3     13  6.3\n"
     ]
    },
    {
     "data": {
      "image/png": "[encoded data removed]",
      "text/plain": [
       "<Figure size 720x432 with 5 Axes>"
      ]
     },
     "metadata": {
      "needs_background": "light"
     },
     "output_type": "display_data"
    },
    {
     "name": "stdout",
     "output_type": "stream",
     "text": [
      "       under10  over10  total  u10_pct  o10_pct   mean  stdev   var\n",
      "name                                                               \n",
      "j           23      27     50     46.0     54.0   2.50   1.24  1.53\n",
      "s           30      29     59     50.8     49.2   2.95   1.43  2.05\n",
      "r           18      23     41     43.9     56.1   2.05   1.39  1.94\n",
      "b           30      27     57     52.6     47.4   2.85   1.79  3.19\n",
      "total      101     106    207     48.8     51.2  10.35   2.56  6.56\n"
     ]
    }
   ],
   "source": [
    "# Get packages\n",
    "import pandas as pd\n",
    "from matplotlib import pyplot as plt\n",
    "import numpy as np\n",
    "\n",
    "# USER INPUT \n",
    "filename = 'rolls-overall-roll20.csv'\n",
    "figtitle = 'Roll20 d20 bot - all recorded rolls'\n",
    "\n",
    "# Get & edit data\n",
    "df = pd.read_csv(filename)\n",
    "df = df.fillna(0)\n",
    "df['total'] = df['j'] + df['s'] + df['r'] + df['b']\n",
    "df['pct'] = round((df['total'] / df['total'].sum()) * 100, 1)\n",
    "print(df.set_index('roll'))\n",
    "\n",
    "# Graph results\n",
    "colors = ['darkred', 'green', 'blue', 'teal', 'purple']\n",
    "\n",
    "fig, axs = plt.subplots(5,1, figsize=(10,6))\n",
    "\n",
    "for i in range(1, 6):\n",
    "    axs[i-1].bar(df['roll'], df[df.columns[i]], color = colors[i-1])\n",
    "    #axs[i-1].yaxis.set_ticklabels([])\n",
    "    axs[i-1].set_ylabel(df.columns[i], rotation = 0, fontsize = 12, \n",
    "                        ha = 'right', va = 'center')\n",
    "    \n",
    "    axs[i-1].plot(df['roll'], [(df[df.columns[i]].sum() / 20)] * 20, \n",
    "                  color = colors[i-1], \n",
    "                  linestyle = 'dashed',\n",
    "                  linewidth = 1)\n",
    "    \n",
    "    if i != 5:\n",
    "        axs[i-1].xaxis.set_ticklabels([])\n",
    "        axs[i-1].set_ylim(0,10)\n",
    "        \n",
    "fig.suptitle(figtitle, size = 16)\n",
    "plt.xticks(np.arange(1, 21, 1.0))\n",
    "plt.xlabel('Roll', size = 14)\n",
    "plt.show()\n",
    "\n",
    "# Calc totals\n",
    "summary = []\n",
    "for i in range(1,6):\n",
    "    name = df.columns[i]\n",
    "    col = df[name]\n",
    "    colval = col.values.tolist()\n",
    "    under10 = sum(colval[0:10])\n",
    "    over10 = sum(colval[10:21])\n",
    "    total = sum(colval)\n",
    "    under10_pct = under10/total*100\n",
    "    over10_pct = over10/total*100\n",
    "    m = col.mean()\n",
    "    sd = col.std()\n",
    "    v = col.var()\n",
    "    lst = [name, int(under10), int(over10), int(total), round(under10_pct, 1), round(over10_pct, 1),\n",
    "           m, round(sd, 2), round(v, 2)]\n",
    "    summary.append(lst)\n",
    "    \n",
    "summary = pd.DataFrame(summary)\n",
    "summary.columns = ['name', 'under10', 'over10', 'total', 'u10_pct', 'o10_pct', 'mean', 'stdev', 'var']\n",
    "print(summary.set_index('name'))"
   ]
  },
  {
   "cell_type": "code",
   "execution_count": null,
   "metadata": {},
   "outputs": [],
   "source": []
  }
 ],
 "metadata": {
  "kernelspec": {
   "display_name": "Python 3",
   "language": "python",
   "name": "python3"
  },
  "language_info": {
   "codemirror_mode": {
    "name": "ipython",
    "version": 3
   },
   "file_extension": ".py",
   "mimetype": "text/x-python",
   "name": "python",
   "nbconvert_exporter": "python",
   "pygments_lexer": "ipython3",
   "version": "3.7.3"
  }
 },
 "nbformat": 4,
 "nbformat_minor": 2
}
